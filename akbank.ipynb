{
  "nbformat": 4,
  "nbformat_minor": 0,
  "metadata": {
    "colab": {
      "provenance": []
    },
    "kernelspec": {
      "name": "python3",
      "display_name": "Python 3"
    },
    "language_info": {
      "name": "python"
    }
  },
  "cells": [
    {
      "cell_type": "code",
      "execution_count": 1,
      "metadata": {
        "id": "uTCAhRs758cW"
      },
      "outputs": [],
      "source": [
        "class Library:\n",
        "    def __init__(self):\n",
        "        self.file = open(\"books.txt\", \"a+\")\n",
        "\n",
        "    def __del__(self):\n",
        "        self.file.close()\n",
        "\n",
        "\n",
        "    def list_books(self):\n",
        "        self.file.seek(0)\n",
        "        books = self.file.readlines()\n",
        "        if not books:\n",
        "            print(\"No books available.\")\n",
        "        else:\n",
        "            print(\"*** List of Books ***\")\n",
        "            for book in books:\n",
        "                title, author, release_year, num_pages = book.strip().split(',')\n",
        "                print(f\"Title: {title}, Author: {author}, Release Year: {release_year}, Pages: {num_pages}\")\n",
        "\n",
        "\n",
        "\n",
        "    def add_book(self):\n",
        "        title = input(\"Enter the book title: \")\n",
        "        author = input(\"Enter the book author: \")\n",
        "        release_year = input(\"Enter the first release year: \")\n",
        "        num_pages = input(\"Enter the number of pages: \")\n",
        "        book_info = f\"{title},{author},{release_year},{num_pages}\\n\"\n",
        "        self.file.write(book_info)\n",
        "        print(\"Book added successfully.\")\n",
        "\n",
        "\n",
        "\n",
        "    def remove_book(self):\n",
        "        title_to_remove = input(\"Enter the title of the book to remove: \")\n",
        "        self.file.seek(0)\n",
        "        books = self.file.readlines()\n",
        "        updated_books = []\n",
        "        found = False\n",
        "        for book in books:\n",
        "            if title_to_remove.lower() in book.lower():\n",
        "                found = True\n",
        "            else:\n",
        "                updated_books.append(book)\n",
        "        if found:\n",
        "            self.file.seek(0)\n",
        "            self.file.truncate()\n",
        "            self.file.writelines(updated_books)\n",
        "            print(f\"Book '{title_to_remove}' removed successfully.\")\n",
        "        else:\n",
        "            print(f\"Book '{title_to_remove}' not found.\")"
      ]
    },
    {
      "cell_type": "code",
      "source": [
        "def main():\n",
        "    lib = Library()\n",
        "    while True:\n",
        "        print(\"\\n*** MENU ***\")\n",
        "        print(\"1) List Books\")\n",
        "        print(\"2) Add Book\")\n",
        "        print(\"3) Remove Book\")\n",
        "        print(\"4) Exit\")\n",
        "        choice = input(\"Enter your choice: \")\n",
        "        if choice == \"1\":\n",
        "            lib.list_books()\n",
        "        elif choice == \"2\":\n",
        "            lib.add_book()\n",
        "        elif choice == \"3\":\n",
        "            lib.remove_book()\n",
        "        elif choice == \"4\":\n",
        "            break\n",
        "        else:\n",
        "            print(\"Invalid choice. Please enter a number between 1 and 4.\")\n",
        "\n",
        "main()"
      ],
      "metadata": {
        "id": "k7YTvxj86L35"
      },
      "execution_count": null,
      "outputs": []
    }
  ]
}